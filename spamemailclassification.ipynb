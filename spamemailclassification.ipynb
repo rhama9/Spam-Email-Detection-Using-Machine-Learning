{
  "nbformat": 4,
  "nbformat_minor": 0,
  "metadata": {
    "colab": {
      "provenance": []
    },
    "kernelspec": {
      "name": "python3",
      "display_name": "Python 3"
    },
    "language_info": {
      "name": "python"
    }
  },
  "cells": [
    {
      "cell_type": "code",
      "execution_count": null,
      "metadata": {
        "id": "SCj--Ft7fGlh"
      },
      "outputs": [],
      "source": []
    },
    {
      "cell_type": "code",
      "source": [
        "import pandas as pd\n",
        "from sklearn.model_selection import train_test_split\n",
        "from sklearn.feature_extraction.text import TfidfVectorizer\n",
        "from sklearn.svm import SVC\n",
        "from sklearn.metrics import accuracy_score\n",
        "import re\n",
        "import nltk\n",
        "nltk.download('punkt')\n",
        "from nltk.corpus import stopwords\n",
        "from nltk.stem import PorterStemmer\n",
        "from nltk.tokenize import word_tokenize\n",
        "\n",
        "# Load the dataset\n",
        "file_path = \"spam.csv\"\n",
        "data = pd.read_csv(file_path)\n",
        "\n",
        "# Preprocessing function\n",
        "def preprocess_text(text):\n",
        "    # Convert text to lowercase\n",
        "    text = text.lower()\n",
        "\n",
        "    # Remove special characters using regex\n",
        "    text = re.sub(r'\\W', ' ', text)\n",
        "\n",
        "    # Tokenize text\n",
        "    tokens = word_tokenize(text)\n",
        "\n",
        "    # Remove stopwords\n",
        "    stop_words = set(stopwords.words('english'))\n",
        "    tokens = [word for word in tokens if word not in stop_words]\n",
        "\n",
        "    # Perform stemming\n",
        "    stemmer = PorterStemmer()\n",
        "    tokens = [stemmer.stem(word) for word in tokens]\n",
        "\n",
        "    # Join tokens back into a single string\n",
        "    cleaned_text = ' '.join(tokens)\n",
        "\n",
        "    return cleaned_text\n",
        "\n",
        "# Apply preprocessing to the \"Message\" column\n",
        "data['Processed_Message'] = data['Message'].apply(preprocess_text)\n",
        "\n",
        "# Encode the \"Category\" column to numerical labels if needed\n",
        "# Assuming 'ham' is 0 and 'spam' is 1\n",
        "data['Category'] = data['Category'].map({'ham': 0, 'spam': 1})\n",
        "\n",
        "# Split the dataset into training and testing sets\n",
        "X_train, X_test, y_train, y_test = train_test_split(data['Processed_Message'], data['Category'], test_size=0.2, random_state=42)\n",
        "\n",
        "# Vectorize the text using TF-IDF\n",
        "tfidf_vectorizer = TfidfVectorizer(max_features=1000)  # You can adjust max_features as needed\n",
        "X_train_tfidf = tfidf_vectorizer.fit_transform(X_train)\n",
        "X_test_tfidf = tfidf_vectorizer.transform(X_test)\n",
        "\n",
        "# Train a classifier (for example, Support Vector Machine)\n",
        "svm_classifier = SVC(kernel='linear')\n",
        "svm_classifier.fit(X_train_tfidf, y_train)\n",
        "\n",
        "# Make predictions on the testing set\n",
        "y_pred = svm_classifier.predict(X_test_tfidf)\n",
        "\n",
        "# Evaluate the model's performance\n",
        "accuracy = accuracy_score(y_test, y_pred)\n",
        "print(\"Accuracy:\", accuracy)\n"
      ],
      "metadata": {
        "colab": {
          "base_uri": "https://localhost:8080/"
        },
        "id": "GFqg-ecsfhTO",
        "outputId": "10602b01-5e99-4a0b-d803-028ad8d411a0"
      },
      "execution_count": null,
      "outputs": [
        {
          "output_type": "stream",
          "name": "stderr",
          "text": [
            "[nltk_data] Downloading package punkt to /root/nltk_data...\n",
            "[nltk_data]   Package punkt is already up-to-date!\n"
          ]
        },
        {
          "output_type": "stream",
          "name": "stdout",
          "text": [
            "Accuracy: 0.9847533632286996\n"
          ]
        }
      ]
    },
    {
      "cell_type": "code",
      "source": [
        "from sklearn.model_selection import GridSearchCV\n",
        "from imblearn.over_sampling import SMOTE\n",
        "\n",
        "# Define hyperparameters to tune\n",
        "param_grid = {\n",
        "    'C': [0.1, 1, 10, 100],\n",
        "    'gamma': [1, 0.1, 0.01, 0.001],\n",
        "    'kernel': ['linear', 'rbf', 'poly', 'sigmoid']\n",
        "}\n",
        "\n",
        "# Perform grid search to find the best hyperparameters\n",
        "svm_grid_search = GridSearchCV(SVC(), param_grid, cv=5, scoring='accuracy')\n",
        "svm_grid_search.fit(X_train_tfidf, y_train)\n",
        "\n",
        "# Get the best hyperparameters\n",
        "best_params = svm_grid_search.best_params_\n",
        "print(\"Best Hyperparameters:\", best_params)\n",
        "\n",
        "# Train a classifier with the best hyperparameters\n",
        "best_svm_classifier = SVC(**best_params)\n",
        "best_svm_classifier.fit(X_train_tfidf, y_train)\n",
        "\n",
        "# Perform oversampling using SMOTE to handle imbalanced data\n",
        "smote = SMOTE(random_state=42)\n",
        "X_train_resampled, y_train_resampled = smote.fit_resample(X_train_tfidf, y_train)\n",
        "\n",
        "# Train a classifier on resampled data\n",
        "resampled_svm_classifier = SVC(**best_params)\n",
        "resampled_svm_classifier.fit(X_train_resampled, y_train_resampled)\n",
        "\n",
        "# Make predictions on the testing set\n",
        "y_pred_best = best_svm_classifier.predict(X_test_tfidf)\n",
        "y_pred_resampled = resampled_svm_classifier.predict(X_test_tfidf)\n",
        "\n",
        "# Evaluate the performance of the best classifier with grid search\n",
        "accuracy_best = accuracy_score(y_test, y_pred_best)\n",
        "print(\"Accuracy with Best Classifier:\", accuracy_best)\n",
        "\n",
        "# Evaluate the performance of the classifier with resampled data\n",
        "accuracy_resampled = accuracy_score(y_test, y_pred_resampled)\n",
        "print(\"Accuracy with Resampled Data:\", accuracy_resampled)\n"
      ],
      "metadata": {
        "colab": {
          "base_uri": "https://localhost:8080/"
        },
        "id": "FyKA8z2hoQCj",
        "outputId": "a0466bcd-d1ea-4d1c-ba69-2bddb8d11edc"
      },
      "execution_count": null,
      "outputs": [
        {
          "output_type": "stream",
          "name": "stdout",
          "text": [
            "Best Hyperparameters: {'C': 10, 'gamma': 0.1, 'kernel': 'rbf'}\n",
            "Accuracy with Best Classifier: 0.9874439461883409\n",
            "Accuracy with Resampled Data: 0.9695067264573991\n"
          ]
        }
      ]
    },
    {
      "cell_type": "code",
      "source": [
        "import nltk\n",
        "nltk.download('stopwords')\n",
        "\n",
        "# Now proceed with your preprocessing function and other code...\n"
      ],
      "metadata": {
        "colab": {
          "base_uri": "https://localhost:8080/"
        },
        "id": "1M-YG7Dyh44P",
        "outputId": "7f3c69a2-2cc4-4ade-d47a-339637afeab5"
      },
      "execution_count": null,
      "outputs": [
        {
          "output_type": "stream",
          "name": "stderr",
          "text": [
            "[nltk_data] Downloading package stopwords to /root/nltk_data...\n",
            "[nltk_data]   Unzipping corpora/stopwords.zip.\n"
          ]
        },
        {
          "output_type": "execute_result",
          "data": {
            "text/plain": [
              "True"
            ]
          },
          "metadata": {},
          "execution_count": 5
        }
      ]
    },
    {
      "cell_type": "code",
      "source": [
        "from sklearn.metrics import precision_score, recall_score, f1_score, confusion_matrix\n",
        "\n",
        "# Compute precision, recall, and F1-score\n",
        "precision = precision_score(y_test, y_pred_best)\n",
        "recall = recall_score(y_test, y_pred_best)\n",
        "f1 = f1_score(y_test, y_pred_best)\n",
        "\n",
        "print(\"Precision:\", precision)\n",
        "print(\"Recall:\", recall)\n",
        "print(\"F1-score:\", f1)\n",
        "\n",
        "# Compute confusion matrix\n",
        "conf_matrix = confusion_matrix(y_test, y_pred_best)\n",
        "print(\"Confusion Matrix:\")\n",
        "print(conf_matrix)\n",
        "\n",
        "# Error analysis\n",
        "misclassified_indices = [i for i, (true, pred) in enumerate(zip(y_test, y_pred_best)) if true != pred]\n",
        "misclassified_emails = X_test.iloc[misclassified_indices]\n",
        "misclassified_labels = y_test.iloc[misclassified_indices]\n",
        "misclassified_predictions = y_pred_best[misclassified_indices]\n",
        "\n",
        "print(\"\\nMisclassified Emails:\")\n",
        "for email, true_label, pred_label in zip(misclassified_emails, misclassified_labels, misclassified_predictions):\n",
        "    print(f\"Email: {email}\\nTrue Label: {true_label}\\nPredicted Label: {pred_label}\\n\")\n"
      ],
      "metadata": {
        "colab": {
          "base_uri": "https://localhost:8080/"
        },
        "id": "GxoyZmfcqNQr",
        "outputId": "81e0815c-5633-4210-cc9b-63446864ba63"
      },
      "execution_count": null,
      "outputs": [
        {
          "output_type": "stream",
          "name": "stdout",
          "text": [
            "Precision: 0.9856115107913669\n",
            "Recall: 0.9194630872483222\n",
            "F1-score: 0.9513888888888888\n",
            "Confusion Matrix:\n",
            "[[964   2]\n",
            " [ 12 137]]\n",
            "\n",
            "Misclassified Emails:\n",
            "Email: hi hope u get txt journey hasnt gd 50 min late think\n",
            "True Label: 0\n",
            "Predicted Label: 1\n",
            "\n",
            "Email: oh god found number glad text back xafter msg cst std ntwk chg 1 50\n",
            "True Label: 1\n",
            "Predicted Label: 0\n",
            "\n",
            "Email: babe u want dont u babi im nasti thing 4 filthyguy fanci rude time sexi bitch go slo n hard txt xxx slo 4msg\n",
            "True Label: 1\n",
            "Predicted Label: 0\n",
            "\n",
            "Email: hello darl today would love chat dont tell look like sexi\n",
            "True Label: 1\n",
            "Predicted Label: 0\n",
            "\n",
            "Email: realiz 40 year thousand old ladi run around tattoo\n",
            "True Label: 1\n",
            "Predicted Label: 0\n",
            "\n",
            "Email: call germani 1 penc per minut call fix line via access number 0844 861 85 85 prepay direct access\n",
            "True Label: 1\n",
            "Predicted Label: 0\n",
            "\n",
            "Email: new deu ex game comin earli next yr\n",
            "True Label: 0\n",
            "Predicted Label: 1\n",
            "\n",
            "Email: u meet ur dream partner soon ur career 2 flyng start 2 find free txt horo follow ur star sign e g horo ari\n",
            "True Label: 1\n",
            "Predicted Label: 0\n",
            "\n",
            "Email: error\n",
            "True Label: 1\n",
            "Predicted Label: 0\n",
            "\n",
            "Email: sorri miss call let talk time 07090201529\n",
            "True Label: 1\n",
            "Predicted Label: 0\n",
            "\n",
            "Email: burger king wan na play footi top stadium get 2 burger king 1st sept go larg super coca cola walk winner\n",
            "True Label: 1\n",
            "Predicted Label: 0\n",
            "\n",
            "Email: error\n",
            "True Label: 1\n",
            "Predicted Label: 0\n",
            "\n",
            "Email: privat 2003 account statement 078\n",
            "True Label: 1\n",
            "Predicted Label: 0\n",
            "\n",
            "Email: email alertfrom jeri stewarts 2kbsubject low cost prescripiton drvgsto listen email call 123\n",
            "True Label: 1\n",
            "Predicted Label: 0\n",
            "\n"
          ]
        }
      ]
    },
    {
      "cell_type": "code",
      "source": [
        "# Error Analysis\n",
        "print(\"\\nMisclassified Emails:\")\n",
        "for email, true_label, pred_label in zip(misclassified_emails, misclassified_labels, misclassified_predictions):\n",
        "    print(f\"Email: {email}\\nTrue Label: {true_label}\\nPredicted Label: {pred_label}\\n\")\n",
        "\n",
        "# Threshold Adjustment (Example: Adjusting threshold to 0.3)\n",
        "y_pred_adjusted_threshold = (best_svm_classifier.decision_function(X_test_tfidf) > 0.3).astype(int)\n",
        "\n",
        "# Evaluate the performance with adjusted threshold\n",
        "accuracy_adjusted_threshold = accuracy_score(y_test, y_pred_adjusted_threshold)\n",
        "precision_adjusted_threshold = precision_score(y_test, y_pred_adjusted_threshold)\n",
        "recall_adjusted_threshold = recall_score(y_test, y_pred_adjusted_threshold)\n",
        "f1_adjusted_threshold = f1_score(y_test, y_pred_adjusted_threshold)\n",
        "\n",
        "print(\"\\nPerformance with Adjusted Threshold:\")\n",
        "print(\"Accuracy:\", accuracy_adjusted_threshold)\n",
        "print(\"Precision:\", precision_adjusted_threshold)\n",
        "print(\"Recall:\", recall_adjusted_threshold)\n",
        "print(\"F1-score:\", f1_adjusted_threshold)\n",
        "\n"
      ],
      "metadata": {
        "colab": {
          "base_uri": "https://localhost:8080/"
        },
        "id": "9LsdZg0grW-V",
        "outputId": "63faf99b-e03c-49bc-a716-a086033c5278"
      },
      "execution_count": null,
      "outputs": [
        {
          "output_type": "stream",
          "name": "stdout",
          "text": [
            "\n",
            "Misclassified Emails:\n",
            "Email: hi hope u get txt journey hasnt gd 50 min late think\n",
            "True Label: 0\n",
            "Predicted Label: 1\n",
            "\n",
            "Email: oh god found number glad text back xafter msg cst std ntwk chg 1 50\n",
            "True Label: 1\n",
            "Predicted Label: 0\n",
            "\n",
            "Email: babe u want dont u babi im nasti thing 4 filthyguy fanci rude time sexi bitch go slo n hard txt xxx slo 4msg\n",
            "True Label: 1\n",
            "Predicted Label: 0\n",
            "\n",
            "Email: hello darl today would love chat dont tell look like sexi\n",
            "True Label: 1\n",
            "Predicted Label: 0\n",
            "\n",
            "Email: realiz 40 year thousand old ladi run around tattoo\n",
            "True Label: 1\n",
            "Predicted Label: 0\n",
            "\n",
            "Email: call germani 1 penc per minut call fix line via access number 0844 861 85 85 prepay direct access\n",
            "True Label: 1\n",
            "Predicted Label: 0\n",
            "\n",
            "Email: new deu ex game comin earli next yr\n",
            "True Label: 0\n",
            "Predicted Label: 1\n",
            "\n",
            "Email: u meet ur dream partner soon ur career 2 flyng start 2 find free txt horo follow ur star sign e g horo ari\n",
            "True Label: 1\n",
            "Predicted Label: 0\n",
            "\n",
            "Email: error\n",
            "True Label: 1\n",
            "Predicted Label: 0\n",
            "\n",
            "Email: sorri miss call let talk time 07090201529\n",
            "True Label: 1\n",
            "Predicted Label: 0\n",
            "\n",
            "Email: burger king wan na play footi top stadium get 2 burger king 1st sept go larg super coca cola walk winner\n",
            "True Label: 1\n",
            "Predicted Label: 0\n",
            "\n",
            "Email: error\n",
            "True Label: 1\n",
            "Predicted Label: 0\n",
            "\n",
            "Email: privat 2003 account statement 078\n",
            "True Label: 1\n",
            "Predicted Label: 0\n",
            "\n",
            "Email: email alertfrom jeri stewarts 2kbsubject low cost prescripiton drvgsto listen email call 123\n",
            "True Label: 1\n",
            "Predicted Label: 0\n",
            "\n",
            "\n",
            "Performance with Adjusted Threshold:\n",
            "Accuracy: 0.9865470852017937\n",
            "Precision: 1.0\n",
            "Recall: 0.8993288590604027\n",
            "F1-score: 0.9469964664310955\n"
          ]
        }
      ]
    },
    {
      "cell_type": "code",
      "source": [
        "import matplotlib.pyplot as plt\n",
        "from sklearn.metrics import roc_curve, roc_auc_score, precision_recall_curve, auc\n",
        "\n",
        "# Compute ROC curve and ROC area\n",
        "fpr, tpr, _ = roc_curve(y_test, y_pred_best)\n",
        "roc_auc = auc(fpr, tpr)\n",
        "\n",
        "# Compute Precision-Recall curve and area\n",
        "precision, recall, _ = precision_recall_curve(y_test, y_pred_best)\n",
        "pr_auc = auc(recall, precision)\n",
        "\n",
        "# Plot ROC curve\n",
        "plt.figure(figsize=(8, 6))\n",
        "plt.plot(fpr, tpr, color='blue', lw=2, label='ROC curve (area = %0.2f)' % roc_auc)\n",
        "plt.plot([0, 1], [0, 1], color='gray', linestyle='--')\n",
        "plt.xlim([0.0, 1.0])\n",
        "plt.ylim([0.0, 1.05])\n",
        "plt.xlabel('False Positive Rate')\n",
        "plt.ylabel('True Positive Rate')\n",
        "plt.title('Receiver Operating Characteristic (ROC) Curve')\n",
        "plt.legend(loc='lower right')\n",
        "plt.show()\n",
        "\n",
        "# Plot Precision-Recall curve\n",
        "plt.figure(figsize=(8, 6))\n",
        "plt.plot(recall, precision, color='blue', lw=2, label='Precision-Recall curve (area = %0.2f)' % pr_auc)\n",
        "plt.xlim([0.0, 1.0])\n",
        "plt.ylim([0.0, 1.05])\n",
        "plt.xlabel('Recall')\n",
        "plt.ylabel('Precision')\n",
        "plt.title('Precision-Recall Curve')\n",
        "plt.legend(loc='lower left')\n",
        "plt.show()\n"
      ],
      "metadata": {
        "colab": {
          "base_uri": "https://localhost:8080/",
          "height": 1000
        },
        "id": "0s2ArojIG_Di",
        "outputId": "bc2276d8-85d0-4a08-e8e0-c61a35b2c30d"
      },
      "execution_count": null,
      "outputs": [
        {
          "output_type": "display_data",
          "data": {
            "text/plain": [
              "<Figure size 800x600 with 1 Axes>"
            ],
            "image/png": "[encoded data removed]"
          },
          "metadata": {}
        },
        {
          "output_type": "display_data",
          "data": {
            "text/plain": [
              "<Figure size 800x600 with 1 Axes>"
            ],
            "image/png": "[encoded data removed]"
          },
          "metadata": {}
        }
      ]
    },
    {
      "cell_type": "code",
      "source": [
        "# Analyze misclassified emails\n",
        "misclassified_indices = y_test != y_pred_best\n",
        "misclassified_emails = X_test[misclassified_indices]\n",
        "true_labels = y_test[misclassified_indices]\n",
        "predicted_labels = y_pred_best[misclassified_indices]\n",
        "\n",
        "print(\"\\nMisclassified Emails:\")\n",
        "for email, true_label, predicted_label in zip(misclassified_emails, true_labels, predicted_labels):\n",
        "    print(\"Email:\", email)\n",
        "    print(\"True Label:\", true_label)\n",
        "    print(\"Predicted Label:\", predicted_label)\n",
        "    print()\n"
      ],
      "metadata": {
        "colab": {
          "base_uri": "https://localhost:8080/"
        },
        "id": "pD3r2nSLHSK_",
        "outputId": "dbb1dc0a-a8c2-4a84-8fc0-c1daced6d0c0"
      },
      "execution_count": null,
      "outputs": [
        {
          "output_type": "stream",
          "name": "stdout",
          "text": [
            "\n",
            "Misclassified Emails:\n",
            "Email: hi hope u get txt journey hasnt gd 50 min late think\n",
            "True Label: 0\n",
            "Predicted Label: 1\n",
            "\n",
            "Email: oh god found number glad text back xafter msg cst std ntwk chg 1 50\n",
            "True Label: 1\n",
            "Predicted Label: 0\n",
            "\n",
            "Email: babe u want dont u babi im nasti thing 4 filthyguy fanci rude time sexi bitch go slo n hard txt xxx slo 4msg\n",
            "True Label: 1\n",
            "Predicted Label: 0\n",
            "\n",
            "Email: hello darl today would love chat dont tell look like sexi\n",
            "True Label: 1\n",
            "Predicted Label: 0\n",
            "\n",
            "Email: realiz 40 year thousand old ladi run around tattoo\n",
            "True Label: 1\n",
            "Predicted Label: 0\n",
            "\n",
            "Email: call germani 1 penc per minut call fix line via access number 0844 861 85 85 prepay direct access\n",
            "True Label: 1\n",
            "Predicted Label: 0\n",
            "\n",
            "Email: new deu ex game comin earli next yr\n",
            "True Label: 0\n",
            "Predicted Label: 1\n",
            "\n",
            "Email: u meet ur dream partner soon ur career 2 flyng start 2 find free txt horo follow ur star sign e g horo ari\n",
            "True Label: 1\n",
            "Predicted Label: 0\n",
            "\n",
            "Email: error\n",
            "True Label: 1\n",
            "Predicted Label: 0\n",
            "\n",
            "Email: sorri miss call let talk time 07090201529\n",
            "True Label: 1\n",
            "Predicted Label: 0\n",
            "\n",
            "Email: burger king wan na play footi top stadium get 2 burger king 1st sept go larg super coca cola walk winner\n",
            "True Label: 1\n",
            "Predicted Label: 0\n",
            "\n",
            "Email: error\n",
            "True Label: 1\n",
            "Predicted Label: 0\n",
            "\n",
            "Email: privat 2003 account statement 078\n",
            "True Label: 1\n",
            "Predicted Label: 0\n",
            "\n",
            "Email: email alertfrom jeri stewarts 2kbsubject low cost prescripiton drvgsto listen email call 123\n",
            "True Label: 1\n",
            "Predicted Label: 0\n",
            "\n"
          ]
        }
      ]
    },
    {
      "cell_type": "code",
      "source": [
        "from sklearn.model_selection import GridSearchCV\n",
        "\n",
        "# Define the parameter grid\n",
        "param_grid = {\n",
        "    'C': [0.1, 1, 10],\n",
        "    'gamma': [0.1, 1, 10],\n",
        "    'kernel': ['linear', 'rbf']\n",
        "}\n",
        "\n",
        "# Initialize the SVM classifier\n",
        "svm_classifier = SVC()\n",
        "\n",
        "# Initialize GridSearchCV\n",
        "grid_search = GridSearchCV(svm_classifier, param_grid, cv=5, scoring='accuracy', verbose=1, n_jobs=-1)\n",
        "\n",
        "# Perform GridSearchCV\n",
        "grid_search.fit(X_train_tfidf, y_train)\n",
        "\n",
        "# Get the best hyperparameters\n",
        "best_params = grid_search.best_params_\n",
        "print(\"Best Hyperparameters:\", best_params)\n",
        "\n",
        "# Get the best classifier\n",
        "best_classifier = grid_search.best_estimator_\n",
        "\n",
        "# Evaluate the best classifier on the testing set\n",
        "y_pred_best = best_classifier.predict(X_test_tfidf)\n",
        "accuracy_best = accuracy_score(y_test, y_pred_best)\n",
        "print(\"Accuracy with Best Classifier:\", accuracy_best)\n"
      ],
      "metadata": {
        "colab": {
          "base_uri": "https://localhost:8080/"
        },
        "id": "ynjZYGvxHu87",
        "outputId": "8158bfa5-b5ae-46f0-998c-a69034b5718d"
      },
      "execution_count": null,
      "outputs": [
        {
          "output_type": "stream",
          "name": "stdout",
          "text": [
            "Fitting 5 folds for each of 18 candidates, totalling 90 fits\n",
            "Best Hyperparameters: {'C': 10, 'gamma': 0.1, 'kernel': 'rbf'}\n",
            "Accuracy with Best Classifier: 0.9874439461883409\n"
          ]
        }
      ]
    },
    {
      "cell_type": "code",
      "source": [
        "from sklearn.metrics import precision_score, recall_score, f1_score\n",
        "\n",
        "# Initialize the SVM classifier with probability=True\n",
        "svm_classifier = SVC(kernel='rbf', C=10, gamma=0.1, probability=True)\n",
        "svm_classifier.fit(X_train_tfidf, y_train)\n",
        "\n",
        "# Adjust the threshold for classification probabilities\n",
        "threshold = 0.5  # You can adjust this threshold as needed\n",
        "y_pred_proba = svm_classifier.predict_proba(X_test_tfidf)[:, 1]\n",
        "y_pred_adjusted_threshold = (y_pred_proba > threshold).astype(int)\n",
        "\n",
        "# Evaluate the model's performance with adjusted threshold\n",
        "accuracy_adjusted_threshold = accuracy_score(y_test, y_pred_adjusted_threshold)\n",
        "precision_adjusted_threshold = precision_score(y_test, y_pred_adjusted_threshold)\n",
        "recall_adjusted_threshold = recall_score(y_test, y_pred_adjusted_threshold)\n",
        "f1_adjusted_threshold = f1_score(y_test, y_pred_adjusted_threshold)\n",
        "\n",
        "print(\"\\nPerformance with Adjusted Threshold:\")\n",
        "print(\"Accuracy:\", accuracy_adjusted_threshold)\n",
        "print(\"Precision:\", precision_adjusted_threshold)\n",
        "print(\"Recall:\", recall_adjusted_threshold)\n",
        "print(\"F1-score:\", f1_adjusted_threshold)\n",
        "\n",
        "# Analyze misclassified emails with adjusted threshold\n",
        "misclassified_indices_adjusted = y_test != y_pred_adjusted_threshold\n",
        "misclassified_emails_adjusted = X_test[misclassified_indices_adjusted]\n",
        "true_labels_adjusted = y_test[misclassified_indices_adjusted]\n",
        "predicted_labels_adjusted = y_pred_adjusted_threshold[misclassified_indices_adjusted]\n",
        "\n",
        "print(\"\\nMisclassified Emails with Adjusted Threshold:\")\n",
        "for email, true_label, predicted_label in zip(misclassified_emails_adjusted, true_labels_adjusted, predicted_labels_adjusted):\n",
        "    print(\"Email:\", email)\n",
        "    print(\"True Label:\", true_label)\n",
        "    print(\"Predicted Label:\", predicted_label)\n",
        "    print()\n",
        "\n",
        "# Conclusion\n",
        "print(\"\\nConclusion:\")\n",
        "print(\"The SVM classifier trained on the TF-IDF vectorized data with optimized hyperparameters achieved high accuracy of approximately 98.74% on the testing set. Further analysis with adjusted threshold showed precision of 1.0, recall of approximately 0.90, and F1-score of approximately 0.95. The model effectively distinguishes between spam and non-spam emails, making it suitable for practical use in classifying emails for spam detection.\")\n"
      ],
      "metadata": {
        "colab": {
          "base_uri": "https://localhost:8080/"
        },
        "id": "tEHsTJBUI6Om",
        "outputId": "01becb96-b895-4655-db5f-c996ae2f6b12"
      },
      "execution_count": null,
      "outputs": [
        {
          "output_type": "stream",
          "name": "stdout",
          "text": [
            "\n",
            "Performance with Adjusted Threshold:\n",
            "Accuracy: 0.989237668161435\n",
            "Precision: 0.9858156028368794\n",
            "Recall: 0.9328859060402684\n",
            "F1-score: 0.9586206896551724\n",
            "\n",
            "Misclassified Emails with Adjusted Threshold:\n",
            "Email: hi hope u get txt journey hasnt gd 50 min late think\n",
            "True Label: 0\n",
            "Predicted Label: 1\n",
            "\n",
            "Email: hello darl today would love chat dont tell look like sexi\n",
            "True Label: 1\n",
            "Predicted Label: 0\n",
            "\n",
            "Email: realiz 40 year thousand old ladi run around tattoo\n",
            "True Label: 1\n",
            "Predicted Label: 0\n",
            "\n",
            "Email: call germani 1 penc per minut call fix line via access number 0844 861 85 85 prepay direct access\n",
            "True Label: 1\n",
            "Predicted Label: 0\n",
            "\n",
            "Email: new deu ex game comin earli next yr\n",
            "True Label: 0\n",
            "Predicted Label: 1\n",
            "\n",
            "Email: u meet ur dream partner soon ur career 2 flyng start 2 find free txt horo follow ur star sign e g horo ari\n",
            "True Label: 1\n",
            "Predicted Label: 0\n",
            "\n",
            "Email: error\n",
            "True Label: 1\n",
            "Predicted Label: 0\n",
            "\n",
            "Email: sorri miss call let talk time 07090201529\n",
            "True Label: 1\n",
            "Predicted Label: 0\n",
            "\n",
            "Email: burger king wan na play footi top stadium get 2 burger king 1st sept go larg super coca cola walk winner\n",
            "True Label: 1\n",
            "Predicted Label: 0\n",
            "\n",
            "Email: error\n",
            "True Label: 1\n",
            "Predicted Label: 0\n",
            "\n",
            "Email: privat 2003 account statement 078\n",
            "True Label: 1\n",
            "Predicted Label: 0\n",
            "\n",
            "Email: email alertfrom jeri stewarts 2kbsubject low cost prescripiton drvgsto listen email call 123\n",
            "True Label: 1\n",
            "Predicted Label: 0\n",
            "\n",
            "\n",
            "Conclusion:\n",
            "The SVM classifier trained on the TF-IDF vectorized data with optimized hyperparameters achieved high accuracy of approximately 98.74% on the testing set. Further analysis with adjusted threshold showed precision of 1.0, recall of approximately 0.90, and F1-score of approximately 0.95. The model effectively distinguishes between spam and non-spam emails, making it suitable for practical use in classifying emails for spam detection.\n"
          ]
        }
      ]
    }
  ]
}